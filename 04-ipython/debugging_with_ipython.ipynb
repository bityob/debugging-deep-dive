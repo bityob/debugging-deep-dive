{
 "cells": [
  {
   "cell_type": "code",
   "execution_count": 1,
   "id": "19a0ec96-87f2-4277-b73f-c3ef3b69ed7c",
   "metadata": {},
   "outputs": [
    {
     "ename": "ZeroDivisionError",
     "evalue": "division by zero",
     "output_type": "error",
     "traceback": [
      "\u001b[31m---------------------------------------------------------------------------\u001b[39m",
      "\u001b[31mZeroDivisionError\u001b[39m                         Traceback (most recent call last)",
      "\u001b[36mCell\u001b[39m\u001b[36m \u001b[39m\u001b[32mIn[1]\u001b[39m\u001b[32m, line 14\u001b[39m\n\u001b[32m     11\u001b[39m empty_list = []              \u001b[38;5;66;03m# Will raise ZeroDivisionError\u001b[39;00m\n\u001b[32m     12\u001b[39m mixed_list = [\u001b[32m80\u001b[39m, \u001b[33m\"\u001b[39m\u001b[33m90\u001b[39m\u001b[33m\"\u001b[39m, \u001b[32m95\u001b[39m]  \u001b[38;5;66;03m# Will raise TypeError\u001b[39;00m\n\u001b[32m---> \u001b[39m\u001b[32m14\u001b[39m \u001b[43mcalculate_average\u001b[49m\u001b[43m(\u001b[49m\u001b[43mempty_list\u001b[49m\u001b[43m)\u001b[49m   \u001b[38;5;66;03m# Fails: ZeroDivisionError\u001b[39;00m\n",
      "\u001b[36mCell\u001b[39m\u001b[36m \u001b[39m\u001b[32mIn[1]\u001b[39m\u001b[32m, line 6\u001b[39m, in \u001b[36mcalculate_average\u001b[39m\u001b[34m(scores)\u001b[39m\n\u001b[32m      4\u001b[39m     total += score\n\u001b[32m      5\u001b[39m \u001b[38;5;66;03m# Bug: Divides by len(scores) without checking if it's zero\u001b[39;00m\n\u001b[32m----> \u001b[39m\u001b[32m6\u001b[39m average = \u001b[43mtotal\u001b[49m\u001b[43m \u001b[49m\u001b[43m/\u001b[49m\u001b[43m \u001b[49m\u001b[38;5;28;43mlen\u001b[39;49m\u001b[43m(\u001b[49m\u001b[43mscores\u001b[49m\u001b[43m)\u001b[49m\n\u001b[32m      7\u001b[39m \u001b[38;5;28;01mreturn\u001b[39;00m average\n",
      "\u001b[31mZeroDivisionError\u001b[39m: division by zero"
     ]
    }
   ],
   "source": [
    "def calculate_average(scores):\n",
    "    total = 0\n",
    "    for score in scores:\n",
    "        total += score\n",
    "    # Bug: Divides by len(scores) without checking if it's zero\n",
    "    average = total / len(scores)\n",
    "    return average\n",
    "\n",
    "# Test cases\n",
    "scores_list = [85, 90, 95]  # Should work\n",
    "empty_list = []              # Will raise ZeroDivisionError\n",
    "mixed_list = [80, \"90\", 95]  # Will raise TypeError\n",
    "\n",
    "calculate_average(empty_list)   # Fails: ZeroDivisionError"
   ]
  },
  {
   "cell_type": "code",
   "execution_count": 2,
   "id": "b7fc8917-bab4-4a4c-885e-7ba9db14e058",
   "metadata": {},
   "outputs": [
    {
     "name": "stdout",
     "output_type": "stream",
     "text": [
      "NOTE: Enter 'c' at the ipdb++>  prompt to continue execution.\n",
      "> \u001b[32m<string>\u001b[39m(\u001b[92m1\u001b[39m)\u001b[36m<module>\u001b[39m\u001b[34m()\u001b[39m\n",
      "\n"
     ]
    },
    {
     "name": "stdin",
     "output_type": "stream",
     "text": [
      "ipdb++>  s\n"
     ]
    },
    {
     "name": "stdout",
     "output_type": "stream",
     "text": [
      "--Call--\n",
      "> \u001b[32m/var/folders/v_/vx52ft7x1_g6cz_6tc56hxdm0000gn/T/ipykernel_53864/3917864610.py\u001b[39m(\u001b[92m1\u001b[39m)\u001b[36mcalculate_average\u001b[39m\u001b[34m()\u001b[39m\n",
      "\u001b[32m----> 1\u001b[39m \u001b[38;5;28;01mdef\u001b[39;00m calculate_average(scores):\n",
      "\u001b[32m      2\u001b[39m     total = \u001b[32m0\u001b[39m\n",
      "\u001b[32m      3\u001b[39m     \u001b[38;5;28;01mfor\u001b[39;00m score \u001b[38;5;28;01min\u001b[39;00m scores:\n",
      "\u001b[32m      4\u001b[39m         total += score\n",
      "\u001b[32m      5\u001b[39m     \u001b[38;5;66;03m# Bug: Divides by len(scores) without checking if it's zero\u001b[39;00m\n",
      "\n"
     ]
    },
    {
     "name": "stdin",
     "output_type": "stream",
     "text": [
      "ipdb++>  q\n"
     ]
    },
    {
     "name": "stdout",
     "output_type": "stream",
     "text": [
      "> \u001b[32m<string>\u001b[39m(\u001b[92m0\u001b[39m)\u001b[36m<module>\u001b[39m\u001b[34m()\u001b[39m\n",
      "\n"
     ]
    }
   ],
   "source": [
    "%debug calculate_average(empty_list)"
   ]
  }
 ],
 "metadata": {
  "kernelspec": {
   "display_name": "Python 3 (ipykernel)",
   "language": "python",
   "name": "python3"
  },
  "language_info": {
   "codemirror_mode": {
    "name": "ipython",
    "version": 3
   },
   "file_extension": ".py",
   "mimetype": "text/x-python",
   "name": "python",
   "nbconvert_exporter": "python",
   "pygments_lexer": "ipython3",
   "version": "3.13.9"
  }
 },
 "nbformat": 4,
 "nbformat_minor": 5
}
